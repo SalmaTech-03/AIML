{
 "cells": [
  {
   "cell_type": "code",
   "execution_count": 12,
   "id": "678aa515-d43f-4f1c-a67c-182374b4c696",
   "metadata": {},
   "outputs": [],
   "source": [
    "import numpy as np\n",
    "import pandas as pd\n",
    "import matplotlib.pyplot as plt\n",
    "import seaborn as sns"
   ]
  },
  {
   "cell_type": "code",
   "execution_count": 13,
   "id": "48a785ed-b76c-4d9f-a20a-71cae4c4a4c7",
   "metadata": {},
   "outputs": [],
   "source": [
    "apartments=[f\"Apt_{i}\" for i in range(1,21)]"
   ]
  },
  {
   "cell_type": "code",
   "execution_count": 14,
   "id": "37c9048e-caa4-460c-acad-2e9765bd4dc1",
   "metadata": {},
   "outputs": [],
   "source": [
    "dates=pd.date_range(start='2025-07-01', periods=30, freq='D')"
   ]
  },
  {
   "cell_type": "code",
   "execution_count": 15,
   "id": "91866790-b7f1-4783-a9b0-dec90cb94a8d",
   "metadata": {},
   "outputs": [],
   "source": [
    "date={\n",
    "    \"Date\":np.tile(dates,len(apartments)),\n",
    "    \"Appartment\":np.repeat(apartments,len(dates)),\n",
    "    \"Electricity_usage\":np.random.normal(loc=20,scale=5,size=len(dates)*len(apartments))\n",
    "}"
   ]
  },
  {
   "cell_type": "code",
   "execution_count": 16,
   "id": "b6edc973-e5d9-4b82-9d54-7359ff4ef915",
   "metadata": {},
   "outputs": [],
   "source": [
    "df=pd.DataFrame(date)"
   ]
  },
  {
   "cell_type": "code",
   "execution_count": 17,
   "id": "a4a444fd-645a-444d-a193-a7351c06dbd7",
   "metadata": {},
   "outputs": [
    {
     "data": {
      "text/html": [
       "<div>\n",
       "<style scoped>\n",
       "    .dataframe tbody tr th:only-of-type {\n",
       "        vertical-align: middle;\n",
       "    }\n",
       "\n",
       "    .dataframe tbody tr th {\n",
       "        vertical-align: top;\n",
       "    }\n",
       "\n",
       "    .dataframe thead th {\n",
       "        text-align: right;\n",
       "    }\n",
       "</style>\n",
       "<table border=\"1\" class=\"dataframe\">\n",
       "  <thead>\n",
       "    <tr style=\"text-align: right;\">\n",
       "      <th></th>\n",
       "      <th>Date</th>\n",
       "      <th>Appartment</th>\n",
       "      <th>Electricity_usage</th>\n",
       "    </tr>\n",
       "  </thead>\n",
       "  <tbody>\n",
       "    <tr>\n",
       "      <th>0</th>\n",
       "      <td>2025-07-01</td>\n",
       "      <td>Apt_1</td>\n",
       "      <td>9.317720</td>\n",
       "    </tr>\n",
       "    <tr>\n",
       "      <th>1</th>\n",
       "      <td>2025-07-02</td>\n",
       "      <td>Apt_1</td>\n",
       "      <td>12.723867</td>\n",
       "    </tr>\n",
       "    <tr>\n",
       "      <th>2</th>\n",
       "      <td>2025-07-03</td>\n",
       "      <td>Apt_1</td>\n",
       "      <td>16.983088</td>\n",
       "    </tr>\n",
       "    <tr>\n",
       "      <th>3</th>\n",
       "      <td>2025-07-04</td>\n",
       "      <td>Apt_1</td>\n",
       "      <td>24.630356</td>\n",
       "    </tr>\n",
       "    <tr>\n",
       "      <th>4</th>\n",
       "      <td>2025-07-05</td>\n",
       "      <td>Apt_1</td>\n",
       "      <td>16.610414</td>\n",
       "    </tr>\n",
       "    <tr>\n",
       "      <th>...</th>\n",
       "      <td>...</td>\n",
       "      <td>...</td>\n",
       "      <td>...</td>\n",
       "    </tr>\n",
       "    <tr>\n",
       "      <th>595</th>\n",
       "      <td>2025-07-26</td>\n",
       "      <td>Apt_20</td>\n",
       "      <td>16.764971</td>\n",
       "    </tr>\n",
       "    <tr>\n",
       "      <th>596</th>\n",
       "      <td>2025-07-27</td>\n",
       "      <td>Apt_20</td>\n",
       "      <td>17.188896</td>\n",
       "    </tr>\n",
       "    <tr>\n",
       "      <th>597</th>\n",
       "      <td>2025-07-28</td>\n",
       "      <td>Apt_20</td>\n",
       "      <td>13.104842</td>\n",
       "    </tr>\n",
       "    <tr>\n",
       "      <th>598</th>\n",
       "      <td>2025-07-29</td>\n",
       "      <td>Apt_20</td>\n",
       "      <td>19.318360</td>\n",
       "    </tr>\n",
       "    <tr>\n",
       "      <th>599</th>\n",
       "      <td>2025-07-30</td>\n",
       "      <td>Apt_20</td>\n",
       "      <td>13.831962</td>\n",
       "    </tr>\n",
       "  </tbody>\n",
       "</table>\n",
       "<p>600 rows × 3 columns</p>\n",
       "</div>"
      ],
      "text/plain": [
       "          Date Appartment  Electricity_usage\n",
       "0   2025-07-01      Apt_1           9.317720\n",
       "1   2025-07-02      Apt_1          12.723867\n",
       "2   2025-07-03      Apt_1          16.983088\n",
       "3   2025-07-04      Apt_1          24.630356\n",
       "4   2025-07-05      Apt_1          16.610414\n",
       "..         ...        ...                ...\n",
       "595 2025-07-26     Apt_20          16.764971\n",
       "596 2025-07-27     Apt_20          17.188896\n",
       "597 2025-07-28     Apt_20          13.104842\n",
       "598 2025-07-29     Apt_20          19.318360\n",
       "599 2025-07-30     Apt_20          13.831962\n",
       "\n",
       "[600 rows x 3 columns]"
      ]
     },
     "execution_count": 17,
     "metadata": {},
     "output_type": "execute_result"
    }
   ],
   "source": [
    "df"
   ]
  },
  {
   "cell_type": "code",
   "execution_count": 18,
   "id": "e96328fc-9735-481d-ab3b-4641772a720e",
   "metadata": {},
   "outputs": [],
   "source": [
    "df[\"Electricity_usage\"]=df[\"Electricity_usage\"].round(2)"
   ]
  },
  {
   "cell_type": "code",
   "execution_count": 19,
   "id": "cd716009-70bc-4abc-a679-9719730c1f1b",
   "metadata": {},
   "outputs": [
    {
     "data": {
      "text/html": [
       "<div>\n",
       "<style scoped>\n",
       "    .dataframe tbody tr th:only-of-type {\n",
       "        vertical-align: middle;\n",
       "    }\n",
       "\n",
       "    .dataframe tbody tr th {\n",
       "        vertical-align: top;\n",
       "    }\n",
       "\n",
       "    .dataframe thead th {\n",
       "        text-align: right;\n",
       "    }\n",
       "</style>\n",
       "<table border=\"1\" class=\"dataframe\">\n",
       "  <thead>\n",
       "    <tr style=\"text-align: right;\">\n",
       "      <th></th>\n",
       "      <th>Date</th>\n",
       "      <th>Appartment</th>\n",
       "      <th>Electricity_usage</th>\n",
       "    </tr>\n",
       "  </thead>\n",
       "  <tbody>\n",
       "    <tr>\n",
       "      <th>0</th>\n",
       "      <td>2025-07-01</td>\n",
       "      <td>Apt_1</td>\n",
       "      <td>9.32</td>\n",
       "    </tr>\n",
       "    <tr>\n",
       "      <th>1</th>\n",
       "      <td>2025-07-02</td>\n",
       "      <td>Apt_1</td>\n",
       "      <td>12.72</td>\n",
       "    </tr>\n",
       "    <tr>\n",
       "      <th>2</th>\n",
       "      <td>2025-07-03</td>\n",
       "      <td>Apt_1</td>\n",
       "      <td>16.98</td>\n",
       "    </tr>\n",
       "    <tr>\n",
       "      <th>3</th>\n",
       "      <td>2025-07-04</td>\n",
       "      <td>Apt_1</td>\n",
       "      <td>24.63</td>\n",
       "    </tr>\n",
       "    <tr>\n",
       "      <th>4</th>\n",
       "      <td>2025-07-05</td>\n",
       "      <td>Apt_1</td>\n",
       "      <td>16.61</td>\n",
       "    </tr>\n",
       "    <tr>\n",
       "      <th>...</th>\n",
       "      <td>...</td>\n",
       "      <td>...</td>\n",
       "      <td>...</td>\n",
       "    </tr>\n",
       "    <tr>\n",
       "      <th>595</th>\n",
       "      <td>2025-07-26</td>\n",
       "      <td>Apt_20</td>\n",
       "      <td>16.76</td>\n",
       "    </tr>\n",
       "    <tr>\n",
       "      <th>596</th>\n",
       "      <td>2025-07-27</td>\n",
       "      <td>Apt_20</td>\n",
       "      <td>17.19</td>\n",
       "    </tr>\n",
       "    <tr>\n",
       "      <th>597</th>\n",
       "      <td>2025-07-28</td>\n",
       "      <td>Apt_20</td>\n",
       "      <td>13.10</td>\n",
       "    </tr>\n",
       "    <tr>\n",
       "      <th>598</th>\n",
       "      <td>2025-07-29</td>\n",
       "      <td>Apt_20</td>\n",
       "      <td>19.32</td>\n",
       "    </tr>\n",
       "    <tr>\n",
       "      <th>599</th>\n",
       "      <td>2025-07-30</td>\n",
       "      <td>Apt_20</td>\n",
       "      <td>13.83</td>\n",
       "    </tr>\n",
       "  </tbody>\n",
       "</table>\n",
       "<p>600 rows × 3 columns</p>\n",
       "</div>"
      ],
      "text/plain": [
       "          Date Appartment  Electricity_usage\n",
       "0   2025-07-01      Apt_1               9.32\n",
       "1   2025-07-02      Apt_1              12.72\n",
       "2   2025-07-03      Apt_1              16.98\n",
       "3   2025-07-04      Apt_1              24.63\n",
       "4   2025-07-05      Apt_1              16.61\n",
       "..         ...        ...                ...\n",
       "595 2025-07-26     Apt_20              16.76\n",
       "596 2025-07-27     Apt_20              17.19\n",
       "597 2025-07-28     Apt_20              13.10\n",
       "598 2025-07-29     Apt_20              19.32\n",
       "599 2025-07-30     Apt_20              13.83\n",
       "\n",
       "[600 rows x 3 columns]"
      ]
     },
     "execution_count": 19,
     "metadata": {},
     "output_type": "execute_result"
    }
   ],
   "source": [
    "df"
   ]
  },
  {
   "cell_type": "code",
   "execution_count": 20,
   "id": "ec605626-a53e-4e22-9d4f-0135f9197ae5",
   "metadata": {},
   "outputs": [
    {
     "name": "stdout",
     "output_type": "stream",
     "text": [
      "Date                 0\n",
      "Appartment           0\n",
      "Electricity_usage    0\n",
      "dtype: int64\n"
     ]
    }
   ],
   "source": [
    "print(df.isnull().sum())"
   ]
  },
  {
   "cell_type": "code",
   "execution_count": 22,
   "id": "05958c03-cfda-41f0-bacf-8eae890b028d",
   "metadata": {},
   "outputs": [
    {
     "data": {
      "text/plain": [
       "Date                 datetime64[ns]\n",
       "Appartment                   object\n",
       "Electricity_usage           float64\n",
       "dtype: object"
      ]
     },
     "execution_count": 22,
     "metadata": {},
     "output_type": "execute_result"
    }
   ],
   "source": [
    "df.dtypes"
   ]
  },
  {
   "cell_type": "code",
   "execution_count": 23,
   "id": "370994b2-d211-4833-9b1f-55f6942a227e",
   "metadata": {},
   "outputs": [
    {
     "data": {
      "text/html": [
       "<div>\n",
       "<style scoped>\n",
       "    .dataframe tbody tr th:only-of-type {\n",
       "        vertical-align: middle;\n",
       "    }\n",
       "\n",
       "    .dataframe tbody tr th {\n",
       "        vertical-align: top;\n",
       "    }\n",
       "\n",
       "    .dataframe thead th {\n",
       "        text-align: right;\n",
       "    }\n",
       "</style>\n",
       "<table border=\"1\" class=\"dataframe\">\n",
       "  <thead>\n",
       "    <tr style=\"text-align: right;\">\n",
       "      <th></th>\n",
       "      <th>Date</th>\n",
       "      <th>Appartment</th>\n",
       "      <th>Electricity_usage</th>\n",
       "    </tr>\n",
       "  </thead>\n",
       "  <tbody>\n",
       "    <tr>\n",
       "      <th>0</th>\n",
       "      <td>2025-07-01</td>\n",
       "      <td>Apt_1</td>\n",
       "      <td>9.32</td>\n",
       "    </tr>\n",
       "    <tr>\n",
       "      <th>1</th>\n",
       "      <td>2025-07-02</td>\n",
       "      <td>Apt_1</td>\n",
       "      <td>12.72</td>\n",
       "    </tr>\n",
       "    <tr>\n",
       "      <th>2</th>\n",
       "      <td>2025-07-03</td>\n",
       "      <td>Apt_1</td>\n",
       "      <td>16.98</td>\n",
       "    </tr>\n",
       "    <tr>\n",
       "      <th>3</th>\n",
       "      <td>2025-07-04</td>\n",
       "      <td>Apt_1</td>\n",
       "      <td>24.63</td>\n",
       "    </tr>\n",
       "    <tr>\n",
       "      <th>4</th>\n",
       "      <td>2025-07-05</td>\n",
       "      <td>Apt_1</td>\n",
       "      <td>16.61</td>\n",
       "    </tr>\n",
       "  </tbody>\n",
       "</table>\n",
       "</div>"
      ],
      "text/plain": [
       "        Date Appartment  Electricity_usage\n",
       "0 2025-07-01      Apt_1               9.32\n",
       "1 2025-07-02      Apt_1              12.72\n",
       "2 2025-07-03      Apt_1              16.98\n",
       "3 2025-07-04      Apt_1              24.63\n",
       "4 2025-07-05      Apt_1              16.61"
      ]
     },
     "execution_count": 23,
     "metadata": {},
     "output_type": "execute_result"
    }
   ],
   "source": [
    "df.head()"
   ]
  },
  {
   "cell_type": "code",
   "execution_count": 24,
   "id": "52f580ad-a772-46e2-9605-e847f1d9f431",
   "metadata": {},
   "outputs": [
    {
     "data": {
      "text/html": [
       "<div>\n",
       "<style scoped>\n",
       "    .dataframe tbody tr th:only-of-type {\n",
       "        vertical-align: middle;\n",
       "    }\n",
       "\n",
       "    .dataframe tbody tr th {\n",
       "        vertical-align: top;\n",
       "    }\n",
       "\n",
       "    .dataframe thead th {\n",
       "        text-align: right;\n",
       "    }\n",
       "</style>\n",
       "<table border=\"1\" class=\"dataframe\">\n",
       "  <thead>\n",
       "    <tr style=\"text-align: right;\">\n",
       "      <th></th>\n",
       "      <th>Date</th>\n",
       "      <th>Appartment</th>\n",
       "      <th>Electricity_usage</th>\n",
       "    </tr>\n",
       "  </thead>\n",
       "  <tbody>\n",
       "    <tr>\n",
       "      <th>595</th>\n",
       "      <td>2025-07-26</td>\n",
       "      <td>Apt_20</td>\n",
       "      <td>16.76</td>\n",
       "    </tr>\n",
       "    <tr>\n",
       "      <th>596</th>\n",
       "      <td>2025-07-27</td>\n",
       "      <td>Apt_20</td>\n",
       "      <td>17.19</td>\n",
       "    </tr>\n",
       "    <tr>\n",
       "      <th>597</th>\n",
       "      <td>2025-07-28</td>\n",
       "      <td>Apt_20</td>\n",
       "      <td>13.10</td>\n",
       "    </tr>\n",
       "    <tr>\n",
       "      <th>598</th>\n",
       "      <td>2025-07-29</td>\n",
       "      <td>Apt_20</td>\n",
       "      <td>19.32</td>\n",
       "    </tr>\n",
       "    <tr>\n",
       "      <th>599</th>\n",
       "      <td>2025-07-30</td>\n",
       "      <td>Apt_20</td>\n",
       "      <td>13.83</td>\n",
       "    </tr>\n",
       "  </tbody>\n",
       "</table>\n",
       "</div>"
      ],
      "text/plain": [
       "          Date Appartment  Electricity_usage\n",
       "595 2025-07-26     Apt_20              16.76\n",
       "596 2025-07-27     Apt_20              17.19\n",
       "597 2025-07-28     Apt_20              13.10\n",
       "598 2025-07-29     Apt_20              19.32\n",
       "599 2025-07-30     Apt_20              13.83"
      ]
     },
     "execution_count": 24,
     "metadata": {},
     "output_type": "execute_result"
    }
   ],
   "source": [
    "df.tail()"
   ]
  },
  {
   "cell_type": "code",
   "execution_count": 25,
   "id": "a10d2c34-b20d-41a7-8662-35641c36fd2d",
   "metadata": {},
   "outputs": [
    {
     "data": {
      "text/plain": [
       "(600, 3)"
      ]
     },
     "execution_count": 25,
     "metadata": {},
     "output_type": "execute_result"
    }
   ],
   "source": [
    "df.shape"
   ]
  },
  {
   "cell_type": "code",
   "execution_count": 26,
   "id": "dc89946d-31b2-4c1f-ad79-3ddafb3db23c",
   "metadata": {},
   "outputs": [
    {
     "name": "stdout",
     "output_type": "stream",
     "text": [
      "<class 'pandas.core.frame.DataFrame'>\n",
      "RangeIndex: 600 entries, 0 to 599\n",
      "Data columns (total 3 columns):\n",
      " #   Column             Non-Null Count  Dtype         \n",
      "---  ------             --------------  -----         \n",
      " 0   Date               600 non-null    datetime64[ns]\n",
      " 1   Appartment         600 non-null    object        \n",
      " 2   Electricity_usage  600 non-null    float64       \n",
      "dtypes: datetime64[ns](1), float64(1), object(1)\n",
      "memory usage: 14.2+ KB\n"
     ]
    }
   ],
   "source": [
    "df.info()"
   ]
  },
  {
   "cell_type": "code",
   "execution_count": 27,
   "id": "ca0ba978-319f-4a5b-971b-5e23f37e4125",
   "metadata": {},
   "outputs": [
    {
     "name": "stdout",
     "output_type": "stream",
     "text": [
      "Appartment\n",
      "Apt_1     579.03\n",
      "Apt_10    582.44\n",
      "Apt_11    620.69\n",
      "Apt_12    565.26\n",
      "Apt_13    649.20\n",
      "Apt_14    555.59\n",
      "Apt_15    623.66\n",
      "Apt_16    565.34\n",
      "Apt_17    618.76\n",
      "Apt_18    594.93\n",
      "Apt_19    594.60\n",
      "Apt_2     567.35\n",
      "Apt_20    640.12\n",
      "Apt_3     575.65\n",
      "Apt_4     637.66\n",
      "Apt_5     608.74\n",
      "Apt_6     644.17\n",
      "Apt_7     612.81\n",
      "Apt_8     615.17\n",
      "Apt_9     597.06\n",
      "Name: Electricity_usage, dtype: float64\n"
     ]
    }
   ],
   "source": [
    "usage_per_apartment=df.groupby(\"Appartment\")[\"Electricity_usage\"].sum()\n",
    "print(usage_per_apartment)"
   ]
  },
  {
   "cell_type": "code",
   "execution_count": null,
   "id": "7b06c87b-1085-48ec-b096-1953bb0d9eb4",
   "metadata": {},
   "outputs": [],
   "source": []
  }
 ],
 "metadata": {
  "kernelspec": {
   "display_name": "Python 3 (ipykernel)",
   "language": "python",
   "name": "python3"
  },
  "language_info": {
   "codemirror_mode": {
    "name": "ipython",
    "version": 3
   },
   "file_extension": ".py",
   "mimetype": "text/x-python",
   "name": "python",
   "nbconvert_exporter": "python",
   "pygments_lexer": "ipython3",
   "version": "3.12.7"
  }
 },
 "nbformat": 4,
 "nbformat_minor": 5
}
